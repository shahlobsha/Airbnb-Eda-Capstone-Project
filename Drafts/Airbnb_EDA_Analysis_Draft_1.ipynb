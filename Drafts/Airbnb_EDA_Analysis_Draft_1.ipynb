{
  "nbformat": 4,
  "nbformat_minor": 0,
  "metadata": {
    "colab": {
      "provenance": [],
      "collapsed_sections": [
        "vncDsAP0Gaoa",
        "FJNUwmbgGyua",
        "w6K7xa23Elo4",
        "yQaldy8SH6Dl",
        "PH-0ReGfmX4f",
        "mDgbUHAGgjLW",
        "O_i_v8NEhb9l",
        "HhfV-JJviCcP",
        "Y3lxredqlCYt",
        "3RnN4peoiCZX",
        "x71ZqKXriCWQ",
        "7hBIi_osiCS2",
        "JlHwYmJAmNHm",
        "35m5QtbWiB9F",
        "PoPl-ycgm1ru",
        "H0kj-8xxnORC",
        "nA9Y7ga8ng1Z",
        "PBTbrJXOngz2",
        "u3PMJOP6ngxN",
        "dauF4eBmngu3",
        "bKJF3rekwFvQ",
        "MSa1f5Uengrz",
        "GF8Ens_Soomf",
        "0wOQAZs5pc--",
        "K5QZ13OEpz2H",
        "lQ7QKXXCp7Bj",
        "448CDAPjqfQr",
        "KSlN3yHqYklG",
        "t6dVpIINYklI",
        "ijmpgYnKYklI",
        "-JiQyfWJYklI",
        "EM7whBJCYoAo",
        "fge-S5ZAYoAp",
        "85gYPyotYoAp",
        "RoGjAbkUYoAp",
        "4Of9eVA-YrdM",
        "iky9q4vBYrdO",
        "F6T5p64dYrdO",
        "y-Ehk30pYrdP",
        "bamQiAODYuh1",
        "QHF8YVU7Yuh3",
        "GwzvFGzlYuh3",
        "qYpmQ266Yuh3",
        "OH-pJp9IphqM",
        "bbFf2-_FphqN",
        "_ouA3fa0phqN",
        "Seke61FWphqN",
        "PIIx-8_IphqN",
        "t27r6nlMphqO",
        "r2jJGEOYphqO",
        "b0JNsNcRphqO",
        "BZR9WyysphqO",
        "jj7wYXLtphqO",
        "eZrbJ2SmphqO",
        "rFu4xreNphqO",
        "YJ55k-q6phqO",
        "gCFgpxoyphqP",
        "OVtJsKN_phqQ",
        "lssrdh5qphqQ",
        "U2RJ9gkRphqQ",
        "1M8mcRywphqQ",
        "tgIPom80phqQ",
        "JMzcOPDDphqR",
        "x-EpHcCOp1ci",
        "X_VqEhTip1ck",
        "8zGJKyg5p1ck",
        "PVzmfK_Ep1ck",
        "n3dbpmDWp1ck",
        "ylSl6qgtp1ck",
        "ZWILFDl5p1ck",
        "M7G43BXep1ck",
        "Ag9LCva-p1cl",
        "E6MkPsBcp1cl",
        "2cELzS2fp1cl",
        "3MPXvC8up1cl",
        "NC_X3p0fY2L0",
        "UV0SzAkaZNRQ",
        "YPEH6qLeZNRQ",
        "q29F0dvdveiT",
        "EXh0U9oCveiU",
        "22aHeOlLveiV",
        "JcMwzZxoAimU",
        "8G2x9gOozGDZ",
        "gCX9965dhzqZ",
        "gIfDvo9L0UH2"
      ],
      "include_colab_link": true
    },
    "kernelspec": {
      "name": "python3",
      "display_name": "Python 3"
    },
    "language_info": {
      "name": "python"
    }
  },
  "cells": [
    {
      "cell_type": "markdown",
      "metadata": {
        "id": "view-in-github",
        "colab_type": "text"
      },
      "source": [
        "<a href=\"https://colab.research.google.com/github/shahlobsha/Airbnb-Eda-Capstone-Project/blob/main/Drafts/Airbnb_EDA_Analysis_Draft_1.ipynb\" target=\"_parent\"><img src=\"https://colab.research.google.com/assets/colab-badge.svg\" alt=\"Open In Colab\"/></a>"
      ]
    },
    {
      "cell_type": "markdown",
      "source": [
        "# **Project Name**    - Airbnb EDA Analysis\n",
        "\n"
      ],
      "metadata": {
        "id": "vncDsAP0Gaoa"
      }
    },
    {
      "cell_type": "markdown",
      "source": [
        "##### **Project Type**    - EDA\n",
        "##### **Contribution**    - Individual\n",
        "##### **Dobe by**         - Shahlob V S"
      ],
      "metadata": {
        "id": "beRrZCGUAJYm"
      }
    },
    {
      "cell_type": "markdown",
      "source": [
        "# **Project Summary -**"
      ],
      "metadata": {
        "id": "FJNUwmbgGyua"
      }
    },
    {
      "cell_type": "markdown",
      "source": [
        "![1_yZ1LPIcXnnW6Ubmp2M-0rQ.png](data:image/png;base64,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)"
      ],
      "metadata": {
        "id": "87eFAz6zB6p3"
      }
    },
    {
      "cell_type": "markdown",
      "source": [
        "**Airbnb** is a prominent online hospitality marketplace connecting travelers with lodging options worldwide. Founded in 2008, it has revolutionized travel by enabling individuals to rent a variety of accommodations directly from hosts. This sharing economy platform offers unique stays, ranging from cozy homes to unconventional spaces. Airbnb has created a global community of hosts and travelers, providing diverse and cost-effective lodging choices. While it's transformed the way people travel, Airbnb has also faced regulatory challenges, housing concerns, and community impacts in some regions due to its disruptive influence on traditional hospitality and housing markets.\n",
        "\n",
        "\n",
        "The project focuses on conducting exploratory data analysis (EDA) on Airbnb data from New York City in 2019. This analysis aims to gain insights into the Airbnb market in NYC, explore patterns and trends, and provide valuable information for hosts, travelers, and potential investors.\n",
        "\n",
        "Key Objectives:\n",
        "\n",
        "\n",
        "1. **Understand Market Dynamics:** The project intends to comprehend the dynamics of the Airbnb market in NYC. This includes identifying peak booking seasons, pricing trends, and the types of properties available for rental.\n",
        "\n",
        "2. **Geospatial Analysis**: Utilizing geospatial data, the analysis will explore the distribution of listings across different neighborhoods in NYC. This will help uncover which areas are most popular among Airbnb users.\n",
        "\n",
        "3. **Pricing Strategies:** The study will delve into how hosts price their listings. It will analyze factors such as property type, neighborhood, and the impact of different amenities on pricing.\n",
        "\n",
        "4. **Property Types:** By categorizing and analyzing various property types (e.g., apartments, houses, private rooms), the analysis will provide insights into the most common types of listings and their respective demand.\n",
        "\n",
        "\n",
        "The analysis was conducted to gain insights into the factors influencing Airbnb prices in New York City and to discover patterns among all variables. This endeavor aimed to provide valuable information for both travelers and hosts in the city while offering insights for the Airbnb business.\n",
        "\n",
        "The project involved the meticulous exploration and cleaning of the dataset to ensure its readiness for analysis. This encompassed a deep dive into understanding the dataset's characteristics, including data types, identification of missing values, and the distribution of data. The cleaning process was equally rigorous, addressing issues such as data errors, missing values and duplicate entries.\n",
        "\n",
        "After the dataset's meticulous preparation, we proceeded to explore and summarize it by describing the data, creating data visualizations, and identifying underlying patterns and trends.\n",
        "\n",
        "Data visualization was a fundamental tool in uncovering and understanding Airbnb data patterns. We harnessed graphs and charts to visually represent the dataset and appended valuable insights and observations under each visualization. This approach facilitated a deeper comprehension of the data and allowed for the identification of pertinent insights and patterns that might have remained concealed within the raw data.\n"
      ],
      "metadata": {
        "id": "F6v_1wHtG2nS"
      }
    },
    {
      "cell_type": "markdown",
      "source": [
        "# **GitHub Link -**"
      ],
      "metadata": {
        "id": "w6K7xa23Elo4"
      }
    },
    {
      "cell_type": "markdown",
      "source": [
        "Provide your GitHub Link here."
      ],
      "metadata": {
        "id": "h1o69JH3Eqqn"
      }
    },
    {
      "cell_type": "markdown",
      "source": [
        "# **Problem Statement**\n"
      ],
      "metadata": {
        "id": "yQaldy8SH6Dl"
      }
    },
    {
      "cell_type": "markdown",
      "source": [
        "**Write Problem Statement Here.**"
      ],
      "metadata": {
        "id": "DpeJGUA3kjGy"
      }
    },
    {
      "cell_type": "markdown",
      "source": [
        "#### **Define Your Business Objective?**"
      ],
      "metadata": {
        "id": "PH-0ReGfmX4f"
      }
    },
    {
      "cell_type": "markdown",
      "source": [
        "Answer Here."
      ],
      "metadata": {
        "id": "PhDvGCAqmjP1"
      }
    },
    {
      "cell_type": "markdown",
      "source": [
        "# **General Guidelines** : -  "
      ],
      "metadata": {
        "id": "mDgbUHAGgjLW"
      }
    },
    {
      "cell_type": "markdown",
      "source": [
        "1.   Well-structured, formatted, and commented code is required.\n",
        "2.   Exception Handling, Production Grade Code & Deployment Ready Code will be a plus. Those students will be awarded some additional credits.\n",
        "     \n",
        "     The additional credits will have advantages over other students during Star Student selection.\n",
        "       \n",
        "             [ Note: - Deployment Ready Code is defined as, the whole .ipynb notebook should be executable in one go\n",
        "                       without a single error logged. ]\n",
        "\n",
        "3.   Each and every logic should have proper comments.\n",
        "4. You may add as many number of charts you want. Make Sure for each and every chart the following format should be answered.\n",
        "        \n",
        "\n",
        "```\n",
        "# Chart visualization code\n",
        "```\n",
        "            \n",
        "\n",
        "*   Why did you pick the specific chart?\n",
        "*   What is/are the insight(s) found from the chart?\n",
        "* Will the gained insights help creating a positive business impact?\n",
        "Are there any insights that lead to negative growth? Justify with specific reason.\n",
        "\n",
        "5. You have to create at least 20 logical & meaningful charts having important insights.\n",
        "\n",
        "\n",
        "[ Hints : - Do the Vizualization in  a structured way while following \"UBM\" Rule.\n",
        "\n",
        "U - Univariate Analysis,\n",
        "\n",
        "B - Bivariate Analysis (Numerical - Categorical, Numerical - Numerical, Categorical - Categorical)\n",
        "\n",
        "M - Multivariate Analysis\n",
        " ]\n",
        "\n",
        "\n",
        "\n"
      ],
      "metadata": {
        "id": "ZrxVaUj-hHfC"
      }
    },
    {
      "cell_type": "markdown",
      "source": [
        "# ***Let's Begin !***"
      ],
      "metadata": {
        "id": "O_i_v8NEhb9l"
      }
    },
    {
      "cell_type": "markdown",
      "source": [
        "## ***1. Know Your Data***"
      ],
      "metadata": {
        "id": "HhfV-JJviCcP"
      }
    },
    {
      "cell_type": "markdown",
      "source": [
        "### Import Libraries\n"
      ],
      "metadata": {
        "id": "Y3lxredqlCYt"
      }
    },
    {
      "cell_type": "code",
      "source": [
        "import numpy as np\n",
        "import pandas as pd\n",
        "import matplotlib.pyplot as plt\n",
        "import seaborn as sns"
      ],
      "metadata": {
        "id": "M8Vqi-pPk-HR"
      },
      "execution_count": null,
      "outputs": []
    },
    {
      "cell_type": "markdown",
      "source": [
        "### Dataset Loading"
      ],
      "metadata": {
        "id": "3RnN4peoiCZX"
      }
    },
    {
      "cell_type": "code",
      "source": [
        "# Load Dataset\n",
        "\n",
        "airbnb_df = pd.read_csv()"
      ],
      "metadata": {
        "id": "4CkvbW_SlZ_R"
      },
      "execution_count": null,
      "outputs": []
    },
    {
      "cell_type": "code",
      "source": [],
      "metadata": {
        "id": "euv1wGulHc9E"
      },
      "execution_count": null,
      "outputs": []
    },
    {
      "cell_type": "markdown",
      "source": [
        "### Dataset First View"
      ],
      "metadata": {
        "id": "x71ZqKXriCWQ"
      }
    },
    {
      "cell_type": "code",
      "source": [
        "# Dataset First Look"
      ],
      "metadata": {
        "id": "LWNFOSvLl09H"
      },
      "execution_count": null,
      "outputs": []
    },
    {
      "cell_type": "markdown",
      "source": [
        "### Dataset Rows & Columns count"
      ],
      "metadata": {
        "id": "7hBIi_osiCS2"
      }
    },
    {
      "cell_type": "code",
      "source": [
        "# Dataset Rows & Columns count"
      ],
      "metadata": {
        "id": "Kllu7SJgmLij"
      },
      "execution_count": null,
      "outputs": []
    },
    {
      "cell_type": "markdown",
      "source": [
        "### Dataset Information"
      ],
      "metadata": {
        "id": "JlHwYmJAmNHm"
      }
    },
    {
      "cell_type": "code",
      "source": [
        "# Dataset Info"
      ],
      "metadata": {
        "id": "e9hRXRi6meOf"
      },
      "execution_count": null,
      "outputs": []
    },
    {
      "cell_type": "markdown",
      "source": [
        "#### Duplicate Values"
      ],
      "metadata": {
        "id": "35m5QtbWiB9F"
      }
    },
    {
      "cell_type": "code",
      "source": [
        "# Dataset Duplicate Value Count"
      ],
      "metadata": {
        "id": "1sLdpKYkmox0"
      },
      "execution_count": null,
      "outputs": []
    },
    {
      "cell_type": "markdown",
      "source": [
        "#### Missing Values/Null Values"
      ],
      "metadata": {
        "id": "PoPl-ycgm1ru"
      }
    },
    {
      "cell_type": "code",
      "source": [
        "# Missing Values/Null Values Count"
      ],
      "metadata": {
        "id": "GgHWkxvamxVg"
      },
      "execution_count": null,
      "outputs": []
    },
    {
      "cell_type": "code",
      "source": [
        "# Visualizing the missing values"
      ],
      "metadata": {
        "id": "3q5wnI3om9sJ"
      },
      "execution_count": null,
      "outputs": []
    },
    {
      "cell_type": "markdown",
      "source": [
        "### What did you know about your dataset?"
      ],
      "metadata": {
        "id": "H0kj-8xxnORC"
      }
    },
    {
      "cell_type": "markdown",
      "source": [
        "Answer Here"
      ],
      "metadata": {
        "id": "gfoNAAC-nUe_"
      }
    },
    {
      "cell_type": "markdown",
      "source": [
        "## ***2. Understanding Your Variables***"
      ],
      "metadata": {
        "id": "nA9Y7ga8ng1Z"
      }
    },
    {
      "cell_type": "code",
      "source": [
        "# Dataset Columns"
      ],
      "metadata": {
        "id": "j7xfkqrt5Ag5"
      },
      "execution_count": null,
      "outputs": []
    },
    {
      "cell_type": "code",
      "source": [
        "# Dataset Describe"
      ],
      "metadata": {
        "id": "DnOaZdaE5Q5t"
      },
      "execution_count": null,
      "outputs": []
    },
    {
      "cell_type": "markdown",
      "source": [
        "### Variables Description"
      ],
      "metadata": {
        "id": "PBTbrJXOngz2"
      }
    },
    {
      "cell_type": "markdown",
      "source": [
        "Answer Here"
      ],
      "metadata": {
        "id": "aJV4KIxSnxay"
      }
    },
    {
      "cell_type": "markdown",
      "source": [
        "### Check Unique Values for each variable."
      ],
      "metadata": {
        "id": "u3PMJOP6ngxN"
      }
    },
    {
      "cell_type": "code",
      "source": [
        "# Check Unique Values for each variable."
      ],
      "metadata": {
        "id": "zms12Yq5n-jE"
      },
      "execution_count": null,
      "outputs": []
    },
    {
      "cell_type": "markdown",
      "source": [
        "## 3. ***Data Wrangling***"
      ],
      "metadata": {
        "id": "dauF4eBmngu3"
      }
    },
    {
      "cell_type": "markdown",
      "source": [
        "### Data Wrangling Code"
      ],
      "metadata": {
        "id": "bKJF3rekwFvQ"
      }
    },
    {
      "cell_type": "code",
      "source": [
        "# Write your code to make your dataset analysis ready."
      ],
      "metadata": {
        "id": "wk-9a2fpoLcV"
      },
      "execution_count": null,
      "outputs": []
    },
    {
      "cell_type": "markdown",
      "source": [
        "### What all manipulations have you done and insights you found?"
      ],
      "metadata": {
        "id": "MSa1f5Uengrz"
      }
    },
    {
      "cell_type": "markdown",
      "source": [
        "Answer Here."
      ],
      "metadata": {
        "id": "LbyXE7I1olp8"
      }
    },
    {
      "cell_type": "markdown",
      "source": [
        "## ***4. Data Vizualization, Storytelling & Experimenting with charts : Understand the relationships between variables***"
      ],
      "metadata": {
        "id": "GF8Ens_Soomf"
      }
    },
    {
      "cell_type": "markdown",
      "source": [
        "#### Chart - 1"
      ],
      "metadata": {
        "id": "0wOQAZs5pc--"
      }
    },
    {
      "cell_type": "code",
      "source": [
        "# Chart - 1 visualization code"
      ],
      "metadata": {
        "id": "7v_ESjsspbW7"
      },
      "execution_count": null,
      "outputs": []
    },
    {
      "cell_type": "markdown",
      "source": [
        "##### 1. Why did you pick the specific chart?"
      ],
      "metadata": {
        "id": "K5QZ13OEpz2H"
      }
    },
    {
      "cell_type": "markdown",
      "source": [
        "Answer Here."
      ],
      "metadata": {
        "id": "XESiWehPqBRc"
      }
    },
    {
      "cell_type": "markdown",
      "source": [
        "##### 2. What is/are the insight(s) found from the chart?"
      ],
      "metadata": {
        "id": "lQ7QKXXCp7Bj"
      }
    },
    {
      "cell_type": "markdown",
      "source": [
        "Answer Here"
      ],
      "metadata": {
        "id": "C_j1G7yiqdRP"
      }
    },
    {
      "cell_type": "markdown",
      "source": [
        "##### 3. Will the gained insights help creating a positive business impact?\n",
        "Are there any insights that lead to negative growth? Justify with specific reason."
      ],
      "metadata": {
        "id": "448CDAPjqfQr"
      }
    },
    {
      "cell_type": "markdown",
      "source": [
        "Answer Here"
      ],
      "metadata": {
        "id": "3cspy4FjqxJW"
      }
    },
    {
      "cell_type": "markdown",
      "source": [
        "#### Chart - 2"
      ],
      "metadata": {
        "id": "KSlN3yHqYklG"
      }
    },
    {
      "cell_type": "code",
      "source": [
        "# Chart - 2 visualization code"
      ],
      "metadata": {
        "id": "R4YgtaqtYklH"
      },
      "execution_count": null,
      "outputs": []
    },
    {
      "cell_type": "markdown",
      "source": [
        "##### 1. Why did you pick the specific chart?"
      ],
      "metadata": {
        "id": "t6dVpIINYklI"
      }
    },
    {
      "cell_type": "markdown",
      "source": [
        "Answer Here."
      ],
      "metadata": {
        "id": "5aaW0BYyYklI"
      }
    },
    {
      "cell_type": "markdown",
      "source": [
        "##### 2. What is/are the insight(s) found from the chart?"
      ],
      "metadata": {
        "id": "ijmpgYnKYklI"
      }
    },
    {
      "cell_type": "markdown",
      "source": [
        "Answer Here"
      ],
      "metadata": {
        "id": "PSx9atu2YklI"
      }
    },
    {
      "cell_type": "markdown",
      "source": [
        "##### 3. Will the gained insights help creating a positive business impact?\n",
        "Are there any insights that lead to negative growth? Justify with specific reason."
      ],
      "metadata": {
        "id": "-JiQyfWJYklI"
      }
    },
    {
      "cell_type": "markdown",
      "source": [
        "Answer Here"
      ],
      "metadata": {
        "id": "BcBbebzrYklV"
      }
    },
    {
      "cell_type": "markdown",
      "source": [
        "#### Chart - 3"
      ],
      "metadata": {
        "id": "EM7whBJCYoAo"
      }
    },
    {
      "cell_type": "code",
      "source": [
        "# Chart - 3 visualization code"
      ],
      "metadata": {
        "id": "t6GMdE67YoAp"
      },
      "execution_count": null,
      "outputs": []
    },
    {
      "cell_type": "markdown",
      "source": [
        "##### 1. Why did you pick the specific chart?"
      ],
      "metadata": {
        "id": "fge-S5ZAYoAp"
      }
    },
    {
      "cell_type": "markdown",
      "source": [
        "Answer Here."
      ],
      "metadata": {
        "id": "5dBItgRVYoAp"
      }
    },
    {
      "cell_type": "markdown",
      "source": [
        "##### 2. What is/are the insight(s) found from the chart?"
      ],
      "metadata": {
        "id": "85gYPyotYoAp"
      }
    },
    {
      "cell_type": "markdown",
      "source": [
        "Answer Here"
      ],
      "metadata": {
        "id": "4jstXR6OYoAp"
      }
    },
    {
      "cell_type": "markdown",
      "source": [
        "##### 3. Will the gained insights help creating a positive business impact?\n",
        "Are there any insights that lead to negative growth? Justify with specific reason."
      ],
      "metadata": {
        "id": "RoGjAbkUYoAp"
      }
    },
    {
      "cell_type": "markdown",
      "source": [
        "Answer Here"
      ],
      "metadata": {
        "id": "zfJ8IqMcYoAp"
      }
    },
    {
      "cell_type": "markdown",
      "source": [
        "#### Chart - 4"
      ],
      "metadata": {
        "id": "4Of9eVA-YrdM"
      }
    },
    {
      "cell_type": "code",
      "source": [
        "# Chart - 4 visualization code"
      ],
      "metadata": {
        "id": "irlUoxc8YrdO"
      },
      "execution_count": null,
      "outputs": []
    },
    {
      "cell_type": "markdown",
      "source": [
        "##### 1. Why did you pick the specific chart?"
      ],
      "metadata": {
        "id": "iky9q4vBYrdO"
      }
    },
    {
      "cell_type": "markdown",
      "source": [
        "Answer Here."
      ],
      "metadata": {
        "id": "aJRCwT6DYrdO"
      }
    },
    {
      "cell_type": "markdown",
      "source": [
        "##### 2. What is/are the insight(s) found from the chart?"
      ],
      "metadata": {
        "id": "F6T5p64dYrdO"
      }
    },
    {
      "cell_type": "markdown",
      "source": [
        "Answer Here"
      ],
      "metadata": {
        "id": "Xx8WAJvtYrdO"
      }
    },
    {
      "cell_type": "markdown",
      "source": [
        "##### 3. Will the gained insights help creating a positive business impact?\n",
        "Are there any insights that lead to negative growth? Justify with specific reason."
      ],
      "metadata": {
        "id": "y-Ehk30pYrdP"
      }
    },
    {
      "cell_type": "markdown",
      "source": [
        "Answer Here"
      ],
      "metadata": {
        "id": "jLNxxz7MYrdP"
      }
    },
    {
      "cell_type": "markdown",
      "source": [
        "#### Chart - 5"
      ],
      "metadata": {
        "id": "bamQiAODYuh1"
      }
    },
    {
      "cell_type": "code",
      "source": [
        "# Chart - 5 visualization code"
      ],
      "metadata": {
        "id": "TIJwrbroYuh3"
      },
      "execution_count": null,
      "outputs": []
    },
    {
      "cell_type": "markdown",
      "source": [
        "##### 1. Why did you pick the specific chart?"
      ],
      "metadata": {
        "id": "QHF8YVU7Yuh3"
      }
    },
    {
      "cell_type": "markdown",
      "source": [
        "Answer Here."
      ],
      "metadata": {
        "id": "dcxuIMRPYuh3"
      }
    },
    {
      "cell_type": "markdown",
      "source": [
        "##### 2. What is/are the insight(s) found from the chart?"
      ],
      "metadata": {
        "id": "GwzvFGzlYuh3"
      }
    },
    {
      "cell_type": "markdown",
      "source": [
        "Answer Here"
      ],
      "metadata": {
        "id": "uyqkiB8YYuh3"
      }
    },
    {
      "cell_type": "markdown",
      "source": [
        "##### 3. Will the gained insights help creating a positive business impact?\n",
        "Are there any insights that lead to negative growth? Justify with specific reason."
      ],
      "metadata": {
        "id": "qYpmQ266Yuh3"
      }
    },
    {
      "cell_type": "markdown",
      "source": [
        "Answer Here"
      ],
      "metadata": {
        "id": "_WtzZ_hCYuh4"
      }
    },
    {
      "cell_type": "markdown",
      "source": [
        "#### Chart - 6"
      ],
      "metadata": {
        "id": "OH-pJp9IphqM"
      }
    },
    {
      "cell_type": "code",
      "source": [
        "# Chart - 6 visualization code"
      ],
      "metadata": {
        "id": "kuRf4wtuphqN"
      },
      "execution_count": null,
      "outputs": []
    },
    {
      "cell_type": "markdown",
      "source": [
        "##### 1. Why did you pick the specific chart?"
      ],
      "metadata": {
        "id": "bbFf2-_FphqN"
      }
    },
    {
      "cell_type": "markdown",
      "source": [
        "Answer Here."
      ],
      "metadata": {
        "id": "loh7H2nzphqN"
      }
    },
    {
      "cell_type": "markdown",
      "source": [
        "##### 2. What is/are the insight(s) found from the chart?"
      ],
      "metadata": {
        "id": "_ouA3fa0phqN"
      }
    },
    {
      "cell_type": "markdown",
      "source": [
        "Answer Here"
      ],
      "metadata": {
        "id": "VECbqPI7phqN"
      }
    },
    {
      "cell_type": "markdown",
      "source": [
        "##### 3. Will the gained insights help creating a positive business impact?\n",
        "Are there any insights that lead to negative growth? Justify with specific reason."
      ],
      "metadata": {
        "id": "Seke61FWphqN"
      }
    },
    {
      "cell_type": "markdown",
      "source": [
        "Answer Here"
      ],
      "metadata": {
        "id": "DW4_bGpfphqN"
      }
    },
    {
      "cell_type": "markdown",
      "source": [
        "#### Chart - 7"
      ],
      "metadata": {
        "id": "PIIx-8_IphqN"
      }
    },
    {
      "cell_type": "code",
      "source": [
        "# Chart - 7 visualization code"
      ],
      "metadata": {
        "id": "lqAIGUfyphqO"
      },
      "execution_count": null,
      "outputs": []
    },
    {
      "cell_type": "markdown",
      "source": [
        "##### 1. Why did you pick the specific chart?"
      ],
      "metadata": {
        "id": "t27r6nlMphqO"
      }
    },
    {
      "cell_type": "markdown",
      "source": [
        "Answer Here."
      ],
      "metadata": {
        "id": "iv6ro40sphqO"
      }
    },
    {
      "cell_type": "markdown",
      "source": [
        "##### 2. What is/are the insight(s) found from the chart?"
      ],
      "metadata": {
        "id": "r2jJGEOYphqO"
      }
    },
    {
      "cell_type": "markdown",
      "source": [
        "Answer Here"
      ],
      "metadata": {
        "id": "Po6ZPi4hphqO"
      }
    },
    {
      "cell_type": "markdown",
      "source": [
        "##### 3. Will the gained insights help creating a positive business impact?\n",
        "Are there any insights that lead to negative growth? Justify with specific reason."
      ],
      "metadata": {
        "id": "b0JNsNcRphqO"
      }
    },
    {
      "cell_type": "markdown",
      "source": [
        "Answer Here"
      ],
      "metadata": {
        "id": "xvSq8iUTphqO"
      }
    },
    {
      "cell_type": "markdown",
      "source": [
        "#### Chart - 8"
      ],
      "metadata": {
        "id": "BZR9WyysphqO"
      }
    },
    {
      "cell_type": "code",
      "source": [
        "# Chart - 8 visualization code"
      ],
      "metadata": {
        "id": "TdPTWpAVphqO"
      },
      "execution_count": null,
      "outputs": []
    },
    {
      "cell_type": "markdown",
      "source": [
        "##### 1. Why did you pick the specific chart?"
      ],
      "metadata": {
        "id": "jj7wYXLtphqO"
      }
    },
    {
      "cell_type": "markdown",
      "source": [
        "Answer Here."
      ],
      "metadata": {
        "id": "Ob8u6rCTphqO"
      }
    },
    {
      "cell_type": "markdown",
      "source": [
        "##### 2. What is/are the insight(s) found from the chart?"
      ],
      "metadata": {
        "id": "eZrbJ2SmphqO"
      }
    },
    {
      "cell_type": "markdown",
      "source": [
        "Answer Here"
      ],
      "metadata": {
        "id": "mZtgC_hjphqO"
      }
    },
    {
      "cell_type": "markdown",
      "source": [
        "##### 3. Will the gained insights help creating a positive business impact?\n",
        "Are there any insights that lead to negative growth? Justify with specific reason."
      ],
      "metadata": {
        "id": "rFu4xreNphqO"
      }
    },
    {
      "cell_type": "markdown",
      "source": [
        "Answer Here"
      ],
      "metadata": {
        "id": "ey_0qi68phqO"
      }
    },
    {
      "cell_type": "markdown",
      "source": [
        "#### Chart - 9"
      ],
      "metadata": {
        "id": "YJ55k-q6phqO"
      }
    },
    {
      "cell_type": "code",
      "source": [
        "# Chart - 9 visualization code"
      ],
      "metadata": {
        "id": "B2aS4O1ophqO"
      },
      "execution_count": null,
      "outputs": []
    },
    {
      "cell_type": "markdown",
      "source": [
        "##### 1. Why did you pick the specific chart?"
      ],
      "metadata": {
        "id": "gCFgpxoyphqP"
      }
    },
    {
      "cell_type": "markdown",
      "source": [
        "Answer Here."
      ],
      "metadata": {
        "id": "TVxDimi2phqP"
      }
    },
    {
      "cell_type": "markdown",
      "source": [
        "##### 2. What is/are the insight(s) found from the chart?"
      ],
      "metadata": {
        "id": "OVtJsKN_phqQ"
      }
    },
    {
      "cell_type": "markdown",
      "source": [
        "Answer Here"
      ],
      "metadata": {
        "id": "ngGi97qjphqQ"
      }
    },
    {
      "cell_type": "markdown",
      "source": [
        "##### 3. Will the gained insights help creating a positive business impact?\n",
        "Are there any insights that lead to negative growth? Justify with specific reason."
      ],
      "metadata": {
        "id": "lssrdh5qphqQ"
      }
    },
    {
      "cell_type": "markdown",
      "source": [
        "Answer Here"
      ],
      "metadata": {
        "id": "tBpY5ekJphqQ"
      }
    },
    {
      "cell_type": "markdown",
      "source": [
        "#### Chart - 10"
      ],
      "metadata": {
        "id": "U2RJ9gkRphqQ"
      }
    },
    {
      "cell_type": "code",
      "source": [
        "# Chart - 10 visualization code"
      ],
      "metadata": {
        "id": "GM7a4YP4phqQ"
      },
      "execution_count": null,
      "outputs": []
    },
    {
      "cell_type": "markdown",
      "source": [
        "##### 1. Why did you pick the specific chart?"
      ],
      "metadata": {
        "id": "1M8mcRywphqQ"
      }
    },
    {
      "cell_type": "markdown",
      "source": [
        "Answer Here."
      ],
      "metadata": {
        "id": "8agQvks0phqQ"
      }
    },
    {
      "cell_type": "markdown",
      "source": [
        "##### 2. What is/are the insight(s) found from the chart?"
      ],
      "metadata": {
        "id": "tgIPom80phqQ"
      }
    },
    {
      "cell_type": "markdown",
      "source": [
        "Answer Here"
      ],
      "metadata": {
        "id": "Qp13pnNzphqQ"
      }
    },
    {
      "cell_type": "markdown",
      "source": [
        "##### 3. Will the gained insights help creating a positive business impact?\n",
        "Are there any insights that lead to negative growth? Justify with specific reason."
      ],
      "metadata": {
        "id": "JMzcOPDDphqR"
      }
    },
    {
      "cell_type": "markdown",
      "source": [
        "Answer Here"
      ],
      "metadata": {
        "id": "R4Ka1PC2phqR"
      }
    },
    {
      "cell_type": "markdown",
      "source": [
        "#### Chart - 11"
      ],
      "metadata": {
        "id": "x-EpHcCOp1ci"
      }
    },
    {
      "cell_type": "code",
      "source": [
        "# Chart - 11 visualization code"
      ],
      "metadata": {
        "id": "mAQTIvtqp1cj"
      },
      "execution_count": null,
      "outputs": []
    },
    {
      "cell_type": "markdown",
      "source": [
        "##### 1. Why did you pick the specific chart?"
      ],
      "metadata": {
        "id": "X_VqEhTip1ck"
      }
    },
    {
      "cell_type": "markdown",
      "source": [
        "Answer Here."
      ],
      "metadata": {
        "id": "-vsMzt_np1ck"
      }
    },
    {
      "cell_type": "markdown",
      "source": [
        "##### 2. What is/are the insight(s) found from the chart?"
      ],
      "metadata": {
        "id": "8zGJKyg5p1ck"
      }
    },
    {
      "cell_type": "markdown",
      "source": [
        "Answer Here"
      ],
      "metadata": {
        "id": "ZYdMsrqVp1ck"
      }
    },
    {
      "cell_type": "markdown",
      "source": [
        "##### 3. Will the gained insights help creating a positive business impact?\n",
        "Are there any insights that lead to negative growth? Justify with specific reason."
      ],
      "metadata": {
        "id": "PVzmfK_Ep1ck"
      }
    },
    {
      "cell_type": "markdown",
      "source": [
        "Answer Here"
      ],
      "metadata": {
        "id": "druuKYZpp1ck"
      }
    },
    {
      "cell_type": "markdown",
      "source": [
        "#### Chart - 12"
      ],
      "metadata": {
        "id": "n3dbpmDWp1ck"
      }
    },
    {
      "cell_type": "code",
      "source": [
        "# Chart - 12 visualization code"
      ],
      "metadata": {
        "id": "bwevp1tKp1ck"
      },
      "execution_count": null,
      "outputs": []
    },
    {
      "cell_type": "markdown",
      "source": [
        "##### 1. Why did you pick the specific chart?"
      ],
      "metadata": {
        "id": "ylSl6qgtp1ck"
      }
    },
    {
      "cell_type": "markdown",
      "source": [
        "Answer Here."
      ],
      "metadata": {
        "id": "m2xqNkiQp1ck"
      }
    },
    {
      "cell_type": "markdown",
      "source": [
        "##### 2. What is/are the insight(s) found from the chart?"
      ],
      "metadata": {
        "id": "ZWILFDl5p1ck"
      }
    },
    {
      "cell_type": "markdown",
      "source": [
        "Answer Here"
      ],
      "metadata": {
        "id": "x-lUsV2mp1ck"
      }
    },
    {
      "cell_type": "markdown",
      "source": [
        "##### 3. Will the gained insights help creating a positive business impact?\n",
        "Are there any insights that lead to negative growth? Justify with specific reason."
      ],
      "metadata": {
        "id": "M7G43BXep1ck"
      }
    },
    {
      "cell_type": "markdown",
      "source": [
        "Answer Here"
      ],
      "metadata": {
        "id": "5wwDJXsLp1cl"
      }
    },
    {
      "cell_type": "markdown",
      "source": [
        "#### Chart - 13"
      ],
      "metadata": {
        "id": "Ag9LCva-p1cl"
      }
    },
    {
      "cell_type": "code",
      "source": [
        "# Chart - 13 visualization code"
      ],
      "metadata": {
        "id": "EUfxeq9-p1cl"
      },
      "execution_count": null,
      "outputs": []
    },
    {
      "cell_type": "markdown",
      "source": [
        "##### 1. Why did you pick the specific chart?"
      ],
      "metadata": {
        "id": "E6MkPsBcp1cl"
      }
    },
    {
      "cell_type": "markdown",
      "source": [
        "Answer Here."
      ],
      "metadata": {
        "id": "V22bRsFWp1cl"
      }
    },
    {
      "cell_type": "markdown",
      "source": [
        "##### 2. What is/are the insight(s) found from the chart?"
      ],
      "metadata": {
        "id": "2cELzS2fp1cl"
      }
    },
    {
      "cell_type": "markdown",
      "source": [
        "Answer Here"
      ],
      "metadata": {
        "id": "ozQPc2_Ip1cl"
      }
    },
    {
      "cell_type": "markdown",
      "source": [
        "##### 3. Will the gained insights help creating a positive business impact?\n",
        "Are there any insights that lead to negative growth? Justify with specific reason."
      ],
      "metadata": {
        "id": "3MPXvC8up1cl"
      }
    },
    {
      "cell_type": "markdown",
      "source": [
        "Answer Here"
      ],
      "metadata": {
        "id": "GL8l1tdLp1cl"
      }
    },
    {
      "cell_type": "markdown",
      "source": [
        "#### Chart - 14 - Correlation Heatmap"
      ],
      "metadata": {
        "id": "NC_X3p0fY2L0"
      }
    },
    {
      "cell_type": "code",
      "source": [
        "# Correlation Heatmap visualization code"
      ],
      "metadata": {
        "id": "xyC9zolEZNRQ"
      },
      "execution_count": null,
      "outputs": []
    },
    {
      "cell_type": "markdown",
      "source": [
        "##### 1. Why did you pick the specific chart?"
      ],
      "metadata": {
        "id": "UV0SzAkaZNRQ"
      }
    },
    {
      "cell_type": "markdown",
      "source": [
        "Answer Here."
      ],
      "metadata": {
        "id": "DVPuT8LYZNRQ"
      }
    },
    {
      "cell_type": "markdown",
      "source": [
        "##### 2. What is/are the insight(s) found from the chart?"
      ],
      "metadata": {
        "id": "YPEH6qLeZNRQ"
      }
    },
    {
      "cell_type": "markdown",
      "source": [
        "Answer Here"
      ],
      "metadata": {
        "id": "bfSqtnDqZNRR"
      }
    },
    {
      "cell_type": "markdown",
      "source": [
        "#### Chart - 15 - Pair Plot"
      ],
      "metadata": {
        "id": "q29F0dvdveiT"
      }
    },
    {
      "cell_type": "code",
      "source": [
        "# Pair Plot visualization code"
      ],
      "metadata": {
        "id": "o58-TEIhveiU"
      },
      "execution_count": null,
      "outputs": []
    },
    {
      "cell_type": "markdown",
      "source": [
        "##### 1. Why did you pick the specific chart?"
      ],
      "metadata": {
        "id": "EXh0U9oCveiU"
      }
    },
    {
      "cell_type": "markdown",
      "source": [
        "Answer Here."
      ],
      "metadata": {
        "id": "eMmPjTByveiU"
      }
    },
    {
      "cell_type": "markdown",
      "source": [
        "##### 2. What is/are the insight(s) found from the chart?"
      ],
      "metadata": {
        "id": "22aHeOlLveiV"
      }
    },
    {
      "cell_type": "markdown",
      "source": [
        "Answer Here"
      ],
      "metadata": {
        "id": "uPQ8RGwHveiV"
      }
    },
    {
      "cell_type": "markdown",
      "source": [
        "## **5. Solution to Business Objective**"
      ],
      "metadata": {
        "id": "JcMwzZxoAimU"
      }
    },
    {
      "cell_type": "markdown",
      "source": [
        "#### What do you suggest the client to achieve Business Objective ?\n",
        "Explain Briefly."
      ],
      "metadata": {
        "id": "8G2x9gOozGDZ"
      }
    },
    {
      "cell_type": "markdown",
      "source": [
        "Answer Here."
      ],
      "metadata": {
        "id": "pASKb0qOza21"
      }
    },
    {
      "cell_type": "markdown",
      "source": [
        "# **Conclusion**"
      ],
      "metadata": {
        "id": "gCX9965dhzqZ"
      }
    },
    {
      "cell_type": "markdown",
      "source": [
        "Write the conclusion here."
      ],
      "metadata": {
        "id": "Fjb1IsQkh3yE"
      }
    },
    {
      "cell_type": "markdown",
      "source": [
        "### ***Hurrah! You have successfully completed your EDA Capstone Project !!!***"
      ],
      "metadata": {
        "id": "gIfDvo9L0UH2"
      }
    }
  ]
}