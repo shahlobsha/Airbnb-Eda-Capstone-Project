{
  "nbformat": 4,
  "nbformat_minor": 0,
  "metadata": {
    "colab": {
      "provenance": [],
      "mount_file_id": "1akO5FgwaiJ4rp5Q-04vLjLqMImFvqVPb",
      "authorship_tag": "ABX9TyP7afguPBXD83KJH0mleJCN",
      "include_colab_link": true
    },
    "kernelspec": {
      "name": "python3",
      "display_name": "Python 3"
    },
    "language_info": {
      "name": "python"
    }
  },
  "cells": [
    {
      "cell_type": "markdown",
      "metadata": {
        "id": "view-in-github",
        "colab_type": "text"
      },
      "source": [
        "<a href=\"https://colab.research.google.com/github/shahlobsha/Airbnb-Eda-Capstone-Project/blob/main/Drafts/Airbnb_EDA_Analysis_Draft_1.ipynb\" target=\"_parent\"><img src=\"https://colab.research.google.com/assets/colab-badge.svg\" alt=\"Open In Colab\"/></a>"
      ]
    },
    {
      "cell_type": "markdown",
      "source": [
        "# **Project Name**    - Airbnb EDA Analysis\n",
        "\n",
        "##### **Project Type**    - EDA\n",
        "##### **Contribution**    - Individual\n",
        "##### **Dobe by**         - Shahlob V S"
      ],
      "metadata": {
        "id": "LTpuu2hUKnOA"
      }
    },
    {
      "cell_type": "markdown",
      "source": [
        "# **Project Summary -**"
      ],
      "metadata": {
        "id": "EvlfisrpKvL_"
      }
    },
    {
      "cell_type": "markdown",
      "source": [
        "![1_yZ1LPIcXnnW6Ubmp2M-0rQ.png](data:image/png;base64,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)"
      ],
      "metadata": {
        "id": "0_DlQf9eKv65"
      }
    },
    {
      "cell_type": "markdown",
      "source": [
        "**Airbnb** is a prominent online hospitality marketplace connecting travelers with lodging options worldwide. Founded in 2008, it has revolutionized travel by enabling individuals to rent a variety of accommodations directly from hosts. This sharing economy platform offers unique stays, ranging from cozy homes to unconventional spaces. Airbnb has created a global community of hosts and travelers, providing diverse and cost-effective lodging choices. While it's transformed the way people travel, Airbnb has also faced regulatory challenges, housing concerns, and community impacts in some regions due to its disruptive influence on traditional hospitality and housing markets.\n",
        "\n",
        "\n",
        "The project focuses on conducting exploratory data analysis (EDA) on Airbnb data from New York City in 2019. This analysis aims to gain insights into the Airbnb market in NYC, explore patterns and trends, and provide valuable information for hosts, travelers, and potential investors.\n",
        "\n",
        "Key Objectives:\n",
        "\n",
        "\n",
        "1. **Understand Market Dynamics:** The project intends to comprehend the dynamics of the Airbnb market in NYC. This includes identifying peak booking seasons, pricing trends, and the types of properties available for rental.\n",
        "\n",
        "2. **Geospatial Analysis**: Utilizing geospatial data, the analysis will explore the distribution of listings across different neighborhoods in NYC. This will help uncover which areas are most popular among Airbnb users.\n",
        "\n",
        "3. **Pricing Strategies:** The study will delve into how hosts price their listings. It will analyze factors such as property type, neighborhood, and the impact of different amenities on pricing.\n",
        "\n",
        "4. **Property Types:** By categorizing and analyzing various property types (e.g., apartments, houses, private rooms), the analysis will provide insights into the most common types of listings and their respective demand.\n",
        "\n",
        "\n",
        "The analysis was conducted to gain insights into the factors influencing Airbnb prices in New York City and to discover patterns among all variables. This endeavor aimed to provide valuable information for both travelers and hosts in the city while offering insights for the Airbnb business.\n",
        "\n",
        "The project involved the meticulous exploration and cleaning of the dataset to ensure its readiness for analysis. This encompassed a deep dive into understanding the dataset's characteristics, including data types, identification of missing values, and the distribution of data. The cleaning process was equally rigorous, addressing issues such as data errors, missing values and duplicate entries.\n",
        "\n",
        "After the dataset's meticulous preparation, we proceeded to explore and summarize it by describing the data, creating data visualizations, and identifying underlying patterns and trends.\n",
        "\n",
        "Data visualization was a fundamental tool in uncovering and understanding Airbnb data patterns. We harnessed graphs and charts to visually represent the dataset and appended valuable insights and observations under each visualization. This approach facilitated a deeper comprehension of the data and allowed for the identification of pertinent insights and patterns that might have remained concealed within the raw data.\n"
      ],
      "metadata": {
        "id": "I0-dQ75SKyEn"
      }
    },
    {
      "cell_type": "markdown",
      "source": [
        "# **GitHub Link -**"
      ],
      "metadata": {
        "id": "VG43LMd3K7rm"
      }
    },
    {
      "cell_type": "markdown",
      "source": [
        "# **Problem Statement**\n"
      ],
      "metadata": {
        "id": "RO3HnJ4fLI29"
      }
    },
    {
      "cell_type": "markdown",
      "source": [
        "#### **Define Your Business Objective?**"
      ],
      "metadata": {
        "id": "kGRoVljcLLZj"
      }
    },
    {
      "cell_type": "markdown",
      "source": [
        "# **General Guidelines** : -  "
      ],
      "metadata": {
        "id": "YJr9y2rpLQA1"
      }
    },
    {
      "cell_type": "markdown",
      "source": [
        "1.   Well-structured, formatted, and commented code is required.\n",
        "2.   Exception Handling, Production Grade Code & Deployment Ready Code will be a plus. Those students will be awarded some additional credits.\n",
        "     \n",
        "     The additional credits will have advantages over other students during Star Student selection.\n",
        "       \n",
        "             [ Note: - Deployment Ready Code is defined as, the whole .ipynb notebook should be executable in one go\n",
        "                       without a single error logged. ]\n",
        "\n",
        "3.   Each and every logic should have proper comments.\n",
        "4. You may add as many number of charts you want. Make Sure for each and every chart the following format should be answered.\n",
        "        \n",
        "\n",
        "```\n",
        "# Chart visualization code\n",
        "```\n",
        "            \n",
        "\n",
        "*   Why did you pick the specific chart?\n",
        "*   What is/are the insight(s) found from the chart?\n",
        "* Will the gained insights help creating a positive business impact?\n",
        "Are there any insights that lead to negative growth? Justify with specific reason.\n",
        "\n",
        "5. You have to create at least 20 logical & meaningful charts having important insights.\n",
        "\n",
        "\n",
        "[ Hints : - Do the Vizualization in  a structured way while following \"UBM\" Rule.\n",
        "\n",
        "U - Univariate Analysis,\n",
        "\n",
        "B - Bivariate Analysis (Numerical - Categorical, Numerical - Numerical, Categorical - Categorical)\n",
        "\n",
        "M - Multivariate Analysis\n",
        " ]\n",
        "\n",
        "\n",
        "\n"
      ],
      "metadata": {
        "id": "7KR7jbltLUB_"
      }
    },
    {
      "cell_type": "markdown",
      "source": [
        "# ***Let's Begin !***"
      ],
      "metadata": {
        "id": "Zok8-asFLatm"
      }
    },
    {
      "cell_type": "markdown",
      "source": [
        "## ***1. Know Your Data***"
      ],
      "metadata": {
        "id": "kbrigIuWLZJ3"
      }
    },
    {
      "cell_type": "markdown",
      "source": [
        "### Import Libraries\n"
      ],
      "metadata": {
        "id": "dumDA94fLmTO"
      }
    },
    {
      "cell_type": "code",
      "execution_count": 2,
      "metadata": {
        "id": "ph60dA-aKh7T"
      },
      "outputs": [],
      "source": [
        "#import Libraries\n",
        "import numpy as np\n",
        "import pandas as pd\n",
        "import matplotlib.pyplot as plt\n",
        "import seaborn as sns"
      ]
    },
    {
      "cell_type": "markdown",
      "source": [
        "### Dataset Loading"
      ],
      "metadata": {
        "id": "i5MHwouZLnC9"
      }
    },
    {
      "cell_type": "code",
      "source": [
        "airbnb_df = pd.read_csv(\"/content/drive/MyDrive/Colab Notebooks/Almabetter/Csv datasets/Airbnb NYC 2019 (1).csv\") #reading the csv file from the google drive"
      ],
      "metadata": {
        "id": "SHLTtPgCLpGn"
      },
      "execution_count": 3,
      "outputs": []
    },
    {
      "cell_type": "markdown",
      "source": [
        "### Dataset First View"
      ],
      "metadata": {
        "id": "_cik7DAoMRiF"
      }
    },
    {
      "cell_type": "code",
      "source": [
        "airbnb_df.head() #this will display the first 5 rows of data"
      ],
      "metadata": {
        "colab": {
          "base_uri": "https://localhost:8080/",
          "height": 417
        },
        "id": "Y0oyGbCWLpDG",
        "outputId": "317314f9-c148-456f-c0b3-07144e74aca8"
      },
      "execution_count": 4,
      "outputs": [
        {
          "output_type": "execute_result",
          "data": {
            "text/plain": [
              "     id                                              name  host_id  \\\n",
              "0  2539                Clean & quiet apt home by the park     2787   \n",
              "1  2595                             Skylit Midtown Castle     2845   \n",
              "2  3647               THE VILLAGE OF HARLEM....NEW YORK !     4632   \n",
              "3  3831                   Cozy Entire Floor of Brownstone     4869   \n",
              "4  5022  Entire Apt: Spacious Studio/Loft by central park     7192   \n",
              "\n",
              "     host_name neighbourhood_group neighbourhood  latitude  longitude  \\\n",
              "0         John            Brooklyn    Kensington  40.64749  -73.97237   \n",
              "1     Jennifer           Manhattan       Midtown  40.75362  -73.98377   \n",
              "2    Elisabeth           Manhattan        Harlem  40.80902  -73.94190   \n",
              "3  LisaRoxanne            Brooklyn  Clinton Hill  40.68514  -73.95976   \n",
              "4        Laura           Manhattan   East Harlem  40.79851  -73.94399   \n",
              "\n",
              "         room_type  price  minimum_nights  number_of_reviews last_review  \\\n",
              "0     Private room    149               1                  9  2018-10-19   \n",
              "1  Entire home/apt    225               1                 45  2019-05-21   \n",
              "2     Private room    150               3                  0         NaN   \n",
              "3  Entire home/apt     89               1                270  2019-07-05   \n",
              "4  Entire home/apt     80              10                  9  2018-11-19   \n",
              "\n",
              "   reviews_per_month  calculated_host_listings_count  availability_365  \n",
              "0               0.21                               6               365  \n",
              "1               0.38                               2               355  \n",
              "2                NaN                               1               365  \n",
              "3               4.64                               1               194  \n",
              "4               0.10                               1                 0  "
            ],
            "text/html": [
              "\n",
              "  <div id=\"df-21203333-4562-456a-b83e-a707d6d105eb\" class=\"colab-df-container\">\n",
              "    <div>\n",
              "<style scoped>\n",
              "    .dataframe tbody tr th:only-of-type {\n",
              "        vertical-align: middle;\n",
              "    }\n",
              "\n",
              "    .dataframe tbody tr th {\n",
              "        vertical-align: top;\n",
              "    }\n",
              "\n",
              "    .dataframe thead th {\n",
              "        text-align: right;\n",
              "    }\n",
              "</style>\n",
              "<table border=\"1\" class=\"dataframe\">\n",
              "  <thead>\n",
              "    <tr style=\"text-align: right;\">\n",
              "      <th></th>\n",
              "      <th>id</th>\n",
              "      <th>name</th>\n",
              "      <th>host_id</th>\n",
              "      <th>host_name</th>\n",
              "      <th>neighbourhood_group</th>\n",
              "      <th>neighbourhood</th>\n",
              "      <th>latitude</th>\n",
              "      <th>longitude</th>\n",
              "      <th>room_type</th>\n",
              "      <th>price</th>\n",
              "      <th>minimum_nights</th>\n",
              "      <th>number_of_reviews</th>\n",
              "      <th>last_review</th>\n",
              "      <th>reviews_per_month</th>\n",
              "      <th>calculated_host_listings_count</th>\n",
              "      <th>availability_365</th>\n",
              "    </tr>\n",
              "  </thead>\n",
              "  <tbody>\n",
              "    <tr>\n",
              "      <th>0</th>\n",
              "      <td>2539</td>\n",
              "      <td>Clean &amp; quiet apt home by the park</td>\n",
              "      <td>2787</td>\n",
              "      <td>John</td>\n",
              "      <td>Brooklyn</td>\n",
              "      <td>Kensington</td>\n",
              "      <td>40.64749</td>\n",
              "      <td>-73.97237</td>\n",
              "      <td>Private room</td>\n",
              "      <td>149</td>\n",
              "      <td>1</td>\n",
              "      <td>9</td>\n",
              "      <td>2018-10-19</td>\n",
              "      <td>0.21</td>\n",
              "      <td>6</td>\n",
              "      <td>365</td>\n",
              "    </tr>\n",
              "    <tr>\n",
              "      <th>1</th>\n",
              "      <td>2595</td>\n",
              "      <td>Skylit Midtown Castle</td>\n",
              "      <td>2845</td>\n",
              "      <td>Jennifer</td>\n",
              "      <td>Manhattan</td>\n",
              "      <td>Midtown</td>\n",
              "      <td>40.75362</td>\n",
              "      <td>-73.98377</td>\n",
              "      <td>Entire home/apt</td>\n",
              "      <td>225</td>\n",
              "      <td>1</td>\n",
              "      <td>45</td>\n",
              "      <td>2019-05-21</td>\n",
              "      <td>0.38</td>\n",
              "      <td>2</td>\n",
              "      <td>355</td>\n",
              "    </tr>\n",
              "    <tr>\n",
              "      <th>2</th>\n",
              "      <td>3647</td>\n",
              "      <td>THE VILLAGE OF HARLEM....NEW YORK !</td>\n",
              "      <td>4632</td>\n",
              "      <td>Elisabeth</td>\n",
              "      <td>Manhattan</td>\n",
              "      <td>Harlem</td>\n",
              "      <td>40.80902</td>\n",
              "      <td>-73.94190</td>\n",
              "      <td>Private room</td>\n",
              "      <td>150</td>\n",
              "      <td>3</td>\n",
              "      <td>0</td>\n",
              "      <td>NaN</td>\n",
              "      <td>NaN</td>\n",
              "      <td>1</td>\n",
              "      <td>365</td>\n",
              "    </tr>\n",
              "    <tr>\n",
              "      <th>3</th>\n",
              "      <td>3831</td>\n",
              "      <td>Cozy Entire Floor of Brownstone</td>\n",
              "      <td>4869</td>\n",
              "      <td>LisaRoxanne</td>\n",
              "      <td>Brooklyn</td>\n",
              "      <td>Clinton Hill</td>\n",
              "      <td>40.68514</td>\n",
              "      <td>-73.95976</td>\n",
              "      <td>Entire home/apt</td>\n",
              "      <td>89</td>\n",
              "      <td>1</td>\n",
              "      <td>270</td>\n",
              "      <td>2019-07-05</td>\n",
              "      <td>4.64</td>\n",
              "      <td>1</td>\n",
              "      <td>194</td>\n",
              "    </tr>\n",
              "    <tr>\n",
              "      <th>4</th>\n",
              "      <td>5022</td>\n",
              "      <td>Entire Apt: Spacious Studio/Loft by central park</td>\n",
              "      <td>7192</td>\n",
              "      <td>Laura</td>\n",
              "      <td>Manhattan</td>\n",
              "      <td>East Harlem</td>\n",
              "      <td>40.79851</td>\n",
              "      <td>-73.94399</td>\n",
              "      <td>Entire home/apt</td>\n",
              "      <td>80</td>\n",
              "      <td>10</td>\n",
              "      <td>9</td>\n",
              "      <td>2018-11-19</td>\n",
              "      <td>0.10</td>\n",
              "      <td>1</td>\n",
              "      <td>0</td>\n",
              "    </tr>\n",
              "  </tbody>\n",
              "</table>\n",
              "</div>\n",
              "    <div class=\"colab-df-buttons\">\n",
              "\n",
              "  <div class=\"colab-df-container\">\n",
              "    <button class=\"colab-df-convert\" onclick=\"convertToInteractive('df-21203333-4562-456a-b83e-a707d6d105eb')\"\n",
              "            title=\"Convert this dataframe to an interactive table.\"\n",
              "            style=\"display:none;\">\n",
              "\n",
              "  <svg xmlns=\"http://www.w3.org/2000/svg\" height=\"24px\" viewBox=\"0 -960 960 960\">\n",
              "    <path d=\"M120-120v-720h720v720H120Zm60-500h600v-160H180v160Zm220 220h160v-160H400v160Zm0 220h160v-160H400v160ZM180-400h160v-160H180v160Zm440 0h160v-160H620v160ZM180-180h160v-160H180v160Zm440 0h160v-160H620v160Z\"/>\n",
              "  </svg>\n",
              "    </button>\n",
              "\n",
              "  <style>\n",
              "    .colab-df-container {\n",
              "      display:flex;\n",
              "      gap: 12px;\n",
              "    }\n",
              "\n",
              "    .colab-df-convert {\n",
              "      background-color: #E8F0FE;\n",
              "      border: none;\n",
              "      border-radius: 50%;\n",
              "      cursor: pointer;\n",
              "      display: none;\n",
              "      fill: #1967D2;\n",
              "      height: 32px;\n",
              "      padding: 0 0 0 0;\n",
              "      width: 32px;\n",
              "    }\n",
              "\n",
              "    .colab-df-convert:hover {\n",
              "      background-color: #E2EBFA;\n",
              "      box-shadow: 0px 1px 2px rgba(60, 64, 67, 0.3), 0px 1px 3px 1px rgba(60, 64, 67, 0.15);\n",
              "      fill: #174EA6;\n",
              "    }\n",
              "\n",
              "    .colab-df-buttons div {\n",
              "      margin-bottom: 4px;\n",
              "    }\n",
              "\n",
              "    [theme=dark] .colab-df-convert {\n",
              "      background-color: #3B4455;\n",
              "      fill: #D2E3FC;\n",
              "    }\n",
              "\n",
              "    [theme=dark] .colab-df-convert:hover {\n",
              "      background-color: #434B5C;\n",
              "      box-shadow: 0px 1px 3px 1px rgba(0, 0, 0, 0.15);\n",
              "      filter: drop-shadow(0px 1px 2px rgba(0, 0, 0, 0.3));\n",
              "      fill: #FFFFFF;\n",
              "    }\n",
              "  </style>\n",
              "\n",
              "    <script>\n",
              "      const buttonEl =\n",
              "        document.querySelector('#df-21203333-4562-456a-b83e-a707d6d105eb button.colab-df-convert');\n",
              "      buttonEl.style.display =\n",
              "        google.colab.kernel.accessAllowed ? 'block' : 'none';\n",
              "\n",
              "      async function convertToInteractive(key) {\n",
              "        const element = document.querySelector('#df-21203333-4562-456a-b83e-a707d6d105eb');\n",
              "        const dataTable =\n",
              "          await google.colab.kernel.invokeFunction('convertToInteractive',\n",
              "                                                    [key], {});\n",
              "        if (!dataTable) return;\n",
              "\n",
              "        const docLinkHtml = 'Like what you see? Visit the ' +\n",
              "          '<a target=\"_blank\" href=https://colab.research.google.com/notebooks/data_table.ipynb>data table notebook</a>'\n",
              "          + ' to learn more about interactive tables.';\n",
              "        element.innerHTML = '';\n",
              "        dataTable['output_type'] = 'display_data';\n",
              "        await google.colab.output.renderOutput(dataTable, element);\n",
              "        const docLink = document.createElement('div');\n",
              "        docLink.innerHTML = docLinkHtml;\n",
              "        element.appendChild(docLink);\n",
              "      }\n",
              "    </script>\n",
              "  </div>\n",
              "\n",
              "\n",
              "<div id=\"df-6421310d-3ffc-4056-8ca6-4295f94a1eed\">\n",
              "  <button class=\"colab-df-quickchart\" onclick=\"quickchart('df-6421310d-3ffc-4056-8ca6-4295f94a1eed')\"\n",
              "            title=\"Suggest charts\"\n",
              "            style=\"display:none;\">\n",
              "\n",
              "<svg xmlns=\"http://www.w3.org/2000/svg\" height=\"24px\"viewBox=\"0 0 24 24\"\n",
              "     width=\"24px\">\n",
              "    <g>\n",
              "        <path d=\"M19 3H5c-1.1 0-2 .9-2 2v14c0 1.1.9 2 2 2h14c1.1 0 2-.9 2-2V5c0-1.1-.9-2-2-2zM9 17H7v-7h2v7zm4 0h-2V7h2v10zm4 0h-2v-4h2v4z\"/>\n",
              "    </g>\n",
              "</svg>\n",
              "  </button>\n",
              "\n",
              "<style>\n",
              "  .colab-df-quickchart {\n",
              "      --bg-color: #E8F0FE;\n",
              "      --fill-color: #1967D2;\n",
              "      --hover-bg-color: #E2EBFA;\n",
              "      --hover-fill-color: #174EA6;\n",
              "      --disabled-fill-color: #AAA;\n",
              "      --disabled-bg-color: #DDD;\n",
              "  }\n",
              "\n",
              "  [theme=dark] .colab-df-quickchart {\n",
              "      --bg-color: #3B4455;\n",
              "      --fill-color: #D2E3FC;\n",
              "      --hover-bg-color: #434B5C;\n",
              "      --hover-fill-color: #FFFFFF;\n",
              "      --disabled-bg-color: #3B4455;\n",
              "      --disabled-fill-color: #666;\n",
              "  }\n",
              "\n",
              "  .colab-df-quickchart {\n",
              "    background-color: var(--bg-color);\n",
              "    border: none;\n",
              "    border-radius: 50%;\n",
              "    cursor: pointer;\n",
              "    display: none;\n",
              "    fill: var(--fill-color);\n",
              "    height: 32px;\n",
              "    padding: 0;\n",
              "    width: 32px;\n",
              "  }\n",
              "\n",
              "  .colab-df-quickchart:hover {\n",
              "    background-color: var(--hover-bg-color);\n",
              "    box-shadow: 0 1px 2px rgba(60, 64, 67, 0.3), 0 1px 3px 1px rgba(60, 64, 67, 0.15);\n",
              "    fill: var(--button-hover-fill-color);\n",
              "  }\n",
              "\n",
              "  .colab-df-quickchart-complete:disabled,\n",
              "  .colab-df-quickchart-complete:disabled:hover {\n",
              "    background-color: var(--disabled-bg-color);\n",
              "    fill: var(--disabled-fill-color);\n",
              "    box-shadow: none;\n",
              "  }\n",
              "\n",
              "  .colab-df-spinner {\n",
              "    border: 2px solid var(--fill-color);\n",
              "    border-color: transparent;\n",
              "    border-bottom-color: var(--fill-color);\n",
              "    animation:\n",
              "      spin 1s steps(1) infinite;\n",
              "  }\n",
              "\n",
              "  @keyframes spin {\n",
              "    0% {\n",
              "      border-color: transparent;\n",
              "      border-bottom-color: var(--fill-color);\n",
              "      border-left-color: var(--fill-color);\n",
              "    }\n",
              "    20% {\n",
              "      border-color: transparent;\n",
              "      border-left-color: var(--fill-color);\n",
              "      border-top-color: var(--fill-color);\n",
              "    }\n",
              "    30% {\n",
              "      border-color: transparent;\n",
              "      border-left-color: var(--fill-color);\n",
              "      border-top-color: var(--fill-color);\n",
              "      border-right-color: var(--fill-color);\n",
              "    }\n",
              "    40% {\n",
              "      border-color: transparent;\n",
              "      border-right-color: var(--fill-color);\n",
              "      border-top-color: var(--fill-color);\n",
              "    }\n",
              "    60% {\n",
              "      border-color: transparent;\n",
              "      border-right-color: var(--fill-color);\n",
              "    }\n",
              "    80% {\n",
              "      border-color: transparent;\n",
              "      border-right-color: var(--fill-color);\n",
              "      border-bottom-color: var(--fill-color);\n",
              "    }\n",
              "    90% {\n",
              "      border-color: transparent;\n",
              "      border-bottom-color: var(--fill-color);\n",
              "    }\n",
              "  }\n",
              "</style>\n",
              "\n",
              "  <script>\n",
              "    async function quickchart(key) {\n",
              "      const quickchartButtonEl =\n",
              "        document.querySelector('#' + key + ' button');\n",
              "      quickchartButtonEl.disabled = true;  // To prevent multiple clicks.\n",
              "      quickchartButtonEl.classList.add('colab-df-spinner');\n",
              "      try {\n",
              "        const charts = await google.colab.kernel.invokeFunction(\n",
              "            'suggestCharts', [key], {});\n",
              "      } catch (error) {\n",
              "        console.error('Error during call to suggestCharts:', error);\n",
              "      }\n",
              "      quickchartButtonEl.classList.remove('colab-df-spinner');\n",
              "      quickchartButtonEl.classList.add('colab-df-quickchart-complete');\n",
              "    }\n",
              "    (() => {\n",
              "      let quickchartButtonEl =\n",
              "        document.querySelector('#df-6421310d-3ffc-4056-8ca6-4295f94a1eed button');\n",
              "      quickchartButtonEl.style.display =\n",
              "        google.colab.kernel.accessAllowed ? 'block' : 'none';\n",
              "    })();\n",
              "  </script>\n",
              "</div>\n",
              "    </div>\n",
              "  </div>\n"
            ]
          },
          "metadata": {},
          "execution_count": 4
        }
      ]
    },
    {
      "cell_type": "markdown",
      "source": [
        "### Dataset Rows & Columns count"
      ],
      "metadata": {
        "id": "rvfWqNJKMl71"
      }
    },
    {
      "cell_type": "code",
      "source": [
        "airbnb_df.shape # There are 48895 rows and 16 columns"
      ],
      "metadata": {
        "colab": {
          "base_uri": "https://localhost:8080/"
        },
        "id": "Ge7lPOdnMmgn",
        "outputId": "237c542c-b99e-4ab6-a60a-f236315ebc77"
      },
      "execution_count": 5,
      "outputs": [
        {
          "output_type": "execute_result",
          "data": {
            "text/plain": [
              "(48895, 16)"
            ]
          },
          "metadata": {},
          "execution_count": 5
        }
      ]
    },
    {
      "cell_type": "markdown",
      "source": [
        "### Dataset Information"
      ],
      "metadata": {
        "id": "xxSkIn44NmPS"
      }
    },
    {
      "cell_type": "code",
      "source": [
        "airbnb_df.info()"
      ],
      "metadata": {
        "colab": {
          "base_uri": "https://localhost:8080/"
        },
        "id": "cPVfNXWXNsTR",
        "outputId": "beaa7958-0e2c-4fce-92d2-6fe6430722ec"
      },
      "execution_count": 6,
      "outputs": [
        {
          "output_type": "stream",
          "name": "stdout",
          "text": [
            "<class 'pandas.core.frame.DataFrame'>\n",
            "RangeIndex: 48895 entries, 0 to 48894\n",
            "Data columns (total 16 columns):\n",
            " #   Column                          Non-Null Count  Dtype  \n",
            "---  ------                          --------------  -----  \n",
            " 0   id                              48895 non-null  int64  \n",
            " 1   name                            48879 non-null  object \n",
            " 2   host_id                         48895 non-null  int64  \n",
            " 3   host_name                       48874 non-null  object \n",
            " 4   neighbourhood_group             48895 non-null  object \n",
            " 5   neighbourhood                   48895 non-null  object \n",
            " 6   latitude                        48895 non-null  float64\n",
            " 7   longitude                       48895 non-null  float64\n",
            " 8   room_type                       48895 non-null  object \n",
            " 9   price                           48895 non-null  int64  \n",
            " 10  minimum_nights                  48895 non-null  int64  \n",
            " 11  number_of_reviews               48895 non-null  int64  \n",
            " 12  last_review                     38843 non-null  object \n",
            " 13  reviews_per_month               38843 non-null  float64\n",
            " 14  calculated_host_listings_count  48895 non-null  int64  \n",
            " 15  availability_365                48895 non-null  int64  \n",
            "dtypes: float64(3), int64(7), object(6)\n",
            "memory usage: 6.0+ MB\n"
          ]
        }
      ]
    },
    {
      "cell_type": "markdown",
      "source": [
        "#### Duplicate Values"
      ],
      "metadata": {
        "id": "o-4S7xuAN6TC"
      }
    },
    {
      "cell_type": "code",
      "source": [
        "airbnb_df.duplicated().sum() #to check for duplicates"
      ],
      "metadata": {
        "colab": {
          "base_uri": "https://localhost:8080/"
        },
        "id": "l9Gmb7ZiN67y",
        "outputId": "f7e1338d-dc1c-4e5c-b603-0cb9eed33fff"
      },
      "execution_count": 7,
      "outputs": [
        {
          "output_type": "execute_result",
          "data": {
            "text/plain": [
              "0"
            ]
          },
          "metadata": {},
          "execution_count": 7
        }
      ]
    },
    {
      "cell_type": "markdown",
      "source": [
        "#### Missing Values/Null Values"
      ],
      "metadata": {
        "id": "gL3DbRusSRGB"
      }
    },
    {
      "cell_type": "code",
      "source": [
        "# Missing Values/Null Values Count\n",
        "airbnb_df.isnull().sum()"
      ],
      "metadata": {
        "colab": {
          "base_uri": "https://localhost:8080/"
        },
        "id": "5bLZIr6ZSZjZ",
        "outputId": "04a8219a-3b80-4d3f-bc56-a07efb735301"
      },
      "execution_count": 8,
      "outputs": [
        {
          "output_type": "execute_result",
          "data": {
            "text/plain": [
              "id                                    0\n",
              "name                                 16\n",
              "host_id                               0\n",
              "host_name                            21\n",
              "neighbourhood_group                   0\n",
              "neighbourhood                         0\n",
              "latitude                              0\n",
              "longitude                             0\n",
              "room_type                             0\n",
              "price                                 0\n",
              "minimum_nights                        0\n",
              "number_of_reviews                     0\n",
              "last_review                       10052\n",
              "reviews_per_month                 10052\n",
              "calculated_host_listings_count        0\n",
              "availability_365                      0\n",
              "dtype: int64"
            ]
          },
          "metadata": {},
          "execution_count": 8
        }
      ]
    },
    {
      "cell_type": "code",
      "source": [
        "# Visualizing the missing values\n",
        "sns.heatmap(airbnb_df.isnull())"
      ],
      "metadata": {
        "colab": {
          "base_uri": "https://localhost:8080/",
          "height": 651
        },
        "id": "loLTGcERSfrO",
        "outputId": "37b6bbbd-04db-4fc0-8113-d498c90470e5"
      },
      "execution_count": 9,
      "outputs": [
        {
          "output_type": "execute_result",
          "data": {
            "text/plain": [
              "<Axes: >"
            ]
          },
          "metadata": {},
          "execution_count": 9
        },
        {
          "output_type": "display_data",
          "data": {
            "text/plain": [
              "<Figure size 640x480 with 2 Axes>"
            ],
            "image/png": "[encoded data removed]"
          },
          "metadata": {}
        }
      ]
    },
    {
      "cell_type": "markdown",
      "source": [
        "### What did you know about your dataset?"
      ],
      "metadata": {
        "id": "MpPkV95dQ248"
      }
    },
    {
      "cell_type": "markdown",
      "source": [
        "The dataset contains information about 48,895 rows of Airbnb listings in New York City with 16 columns. This will help us to analyze the data in order to get useful insights for the company which can help to make better decisions.\n",
        "\n",
        "The Data which i have analyzed have some discrepancies where we have to make sure it stays perfect. We need to change the data type for columns named **price** and **last_review** because they are **int64** and **object**. The price must be changed to float and the date column also to be changed to date datatype\n",
        "\n",
        "**Null Values**\n",
        "\n",
        "1. *name*              - 16\n",
        "2. *host_name*         - 21\n",
        "3. *last_review*       - 10052\n",
        "4. *reviews_per_month* - 10052\n",
        "\n",
        "The above visualization shows that there are null values. We probably need to do data wrangling to make sure to remove null values so that the data looks clean.  "
      ],
      "metadata": {
        "id": "wnCBWLmLTQwT"
      }
    },
    {
      "cell_type": "markdown",
      "source": [
        "\n",
        "\n",
        "As there are only few names and host_name under null values, we can substitute the null value with unknown. However for last_review column, we can substitute with number 0 because there are no reviews given based on the data given in number_of_reviews column. We will be doing this under data wrangling section.\n"
      ],
      "metadata": {
        "id": "lmu5nbctYXls"
      }
    },
    {
      "cell_type": "markdown",
      "source": [
        "## ***2. Understanding Your Variables***"
      ],
      "metadata": {
        "id": "LXIJqoNUcutX"
      }
    },
    {
      "cell_type": "code",
      "source": [
        "# Dataset Columns\n",
        "airbnb_df.isnull().sum()"
      ],
      "metadata": {
        "colab": {
          "base_uri": "https://localhost:8080/"
        },
        "id": "3rgJQJy2cvTh",
        "outputId": "2d4177c7-5d0f-4446-f86a-201ede8744fc"
      },
      "execution_count": 10,
      "outputs": [
        {
          "output_type": "execute_result",
          "data": {
            "text/plain": [
              "id                                    0\n",
              "name                                 16\n",
              "host_id                               0\n",
              "host_name                            21\n",
              "neighbourhood_group                   0\n",
              "neighbourhood                         0\n",
              "latitude                              0\n",
              "longitude                             0\n",
              "room_type                             0\n",
              "price                                 0\n",
              "minimum_nights                        0\n",
              "number_of_reviews                     0\n",
              "last_review                       10052\n",
              "reviews_per_month                 10052\n",
              "calculated_host_listings_count        0\n",
              "availability_365                      0\n",
              "dtype: int64"
            ]
          },
          "metadata": {},
          "execution_count": 10
        }
      ]
    },
    {
      "cell_type": "code",
      "source": [
        "# Dataset Describe\n",
        "airbnb_df.describe()"
      ],
      "metadata": {
        "colab": {
          "base_uri": "https://localhost:8080/",
          "height": 300
        },
        "id": "362jL_4Bd5xt",
        "outputId": "b148cb29-309b-4439-8ab1-b6b72830d86d"
      },
      "execution_count": 11,
      "outputs": [
        {
          "output_type": "execute_result",
          "data": {
            "text/plain": [
              "                 id       host_id      latitude     longitude         price  \\\n",
              "count  4.889500e+04  4.889500e+04  48895.000000  48895.000000  48895.000000   \n",
              "mean   1.901714e+07  6.762001e+07     40.728949    -73.952170    152.720687   \n",
              "std    1.098311e+07  7.861097e+07      0.054530      0.046157    240.154170   \n",
              "min    2.539000e+03  2.438000e+03     40.499790    -74.244420      0.000000   \n",
              "25%    9.471945e+06  7.822033e+06     40.690100    -73.983070     69.000000   \n",
              "50%    1.967728e+07  3.079382e+07     40.723070    -73.955680    106.000000   \n",
              "75%    2.915218e+07  1.074344e+08     40.763115    -73.936275    175.000000   \n",
              "max    3.648724e+07  2.743213e+08     40.913060    -73.712990  10000.000000   \n",
              "\n",
              "       minimum_nights  number_of_reviews  reviews_per_month  \\\n",
              "count    48895.000000       48895.000000       38843.000000   \n",
              "mean         7.029962          23.274466           1.373221   \n",
              "std         20.510550          44.550582           1.680442   \n",
              "min          1.000000           0.000000           0.010000   \n",
              "25%          1.000000           1.000000           0.190000   \n",
              "50%          3.000000           5.000000           0.720000   \n",
              "75%          5.000000          24.000000           2.020000   \n",
              "max       1250.000000         629.000000          58.500000   \n",
              "\n",
              "       calculated_host_listings_count  availability_365  \n",
              "count                    48895.000000      48895.000000  \n",
              "mean                         7.143982        112.781327  \n",
              "std                         32.952519        131.622289  \n",
              "min                          1.000000          0.000000  \n",
              "25%                          1.000000          0.000000  \n",
              "50%                          1.000000         45.000000  \n",
              "75%                          2.000000        227.000000  \n",
              "max                        327.000000        365.000000  "
            ],
            "text/html": [
              "\n",
              "  <div id=\"df-8257fa60-73eb-49ce-812b-2e479c3c09e4\" class=\"colab-df-container\">\n",
              "    <div>\n",
              "<style scoped>\n",
              "    .dataframe tbody tr th:only-of-type {\n",
              "        vertical-align: middle;\n",
              "    }\n",
              "\n",
              "    .dataframe tbody tr th {\n",
              "        vertical-align: top;\n",
              "    }\n",
              "\n",
              "    .dataframe thead th {\n",
              "        text-align: right;\n",
              "    }\n",
              "</style>\n",
              "<table border=\"1\" class=\"dataframe\">\n",
              "  <thead>\n",
              "    <tr style=\"text-align: right;\">\n",
              "      <th></th>\n",
              "      <th>id</th>\n",
              "      <th>host_id</th>\n",
              "      <th>latitude</th>\n",
              "      <th>longitude</th>\n",
              "      <th>price</th>\n",
              "      <th>minimum_nights</th>\n",
              "      <th>number_of_reviews</th>\n",
              "      <th>reviews_per_month</th>\n",
              "      <th>calculated_host_listings_count</th>\n",
              "      <th>availability_365</th>\n",
              "    </tr>\n",
              "  </thead>\n",
              "  <tbody>\n",
              "    <tr>\n",
              "      <th>count</th>\n",
              "      <td>4.889500e+04</td>\n",
              "      <td>4.889500e+04</td>\n",
              "      <td>48895.000000</td>\n",
              "      <td>48895.000000</td>\n",
              "      <td>48895.000000</td>\n",
              "      <td>48895.000000</td>\n",
              "      <td>48895.000000</td>\n",
              "      <td>38843.000000</td>\n",
              "      <td>48895.000000</td>\n",
              "      <td>48895.000000</td>\n",
              "    </tr>\n",
              "    <tr>\n",
              "      <th>mean</th>\n",
              "      <td>1.901714e+07</td>\n",
              "      <td>6.762001e+07</td>\n",
              "      <td>40.728949</td>\n",
              "      <td>-73.952170</td>\n",
              "      <td>152.720687</td>\n",
              "      <td>7.029962</td>\n",
              "      <td>23.274466</td>\n",
              "      <td>1.373221</td>\n",
              "      <td>7.143982</td>\n",
              "      <td>112.781327</td>\n",
              "    </tr>\n",
              "    <tr>\n",
              "      <th>std</th>\n",
              "      <td>1.098311e+07</td>\n",
              "      <td>7.861097e+07</td>\n",
              "      <td>0.054530</td>\n",
              "      <td>0.046157</td>\n",
              "      <td>240.154170</td>\n",
              "      <td>20.510550</td>\n",
              "      <td>44.550582</td>\n",
              "      <td>1.680442</td>\n",
              "      <td>32.952519</td>\n",
              "      <td>131.622289</td>\n",
              "    </tr>\n",
              "    <tr>\n",
              "      <th>min</th>\n",
              "      <td>2.539000e+03</td>\n",
              "      <td>2.438000e+03</td>\n",
              "      <td>40.499790</td>\n",
              "      <td>-74.244420</td>\n",
              "      <td>0.000000</td>\n",
              "      <td>1.000000</td>\n",
              "      <td>0.000000</td>\n",
              "      <td>0.010000</td>\n",
              "      <td>1.000000</td>\n",
              "      <td>0.000000</td>\n",
              "    </tr>\n",
              "    <tr>\n",
              "      <th>25%</th>\n",
              "      <td>9.471945e+06</td>\n",
              "      <td>7.822033e+06</td>\n",
              "      <td>40.690100</td>\n",
              "      <td>-73.983070</td>\n",
              "      <td>69.000000</td>\n",
              "      <td>1.000000</td>\n",
              "      <td>1.000000</td>\n",
              "      <td>0.190000</td>\n",
              "      <td>1.000000</td>\n",
              "      <td>0.000000</td>\n",
              "    </tr>\n",
              "    <tr>\n",
              "      <th>50%</th>\n",
              "      <td>1.967728e+07</td>\n",
              "      <td>3.079382e+07</td>\n",
              "      <td>40.723070</td>\n",
              "      <td>-73.955680</td>\n",
              "      <td>106.000000</td>\n",
              "      <td>3.000000</td>\n",
              "      <td>5.000000</td>\n",
              "      <td>0.720000</td>\n",
              "      <td>1.000000</td>\n",
              "      <td>45.000000</td>\n",
              "    </tr>\n",
              "    <tr>\n",
              "      <th>75%</th>\n",
              "      <td>2.915218e+07</td>\n",
              "      <td>1.074344e+08</td>\n",
              "      <td>40.763115</td>\n",
              "      <td>-73.936275</td>\n",
              "      <td>175.000000</td>\n",
              "      <td>5.000000</td>\n",
              "      <td>24.000000</td>\n",
              "      <td>2.020000</td>\n",
              "      <td>2.000000</td>\n",
              "      <td>227.000000</td>\n",
              "    </tr>\n",
              "    <tr>\n",
              "      <th>max</th>\n",
              "      <td>3.648724e+07</td>\n",
              "      <td>2.743213e+08</td>\n",
              "      <td>40.913060</td>\n",
              "      <td>-73.712990</td>\n",
              "      <td>10000.000000</td>\n",
              "      <td>1250.000000</td>\n",
              "      <td>629.000000</td>\n",
              "      <td>58.500000</td>\n",
              "      <td>327.000000</td>\n",
              "      <td>365.000000</td>\n",
              "    </tr>\n",
              "  </tbody>\n",
              "</table>\n",
              "</div>\n",
              "    <div class=\"colab-df-buttons\">\n",
              "\n",
              "  <div class=\"colab-df-container\">\n",
              "    <button class=\"colab-df-convert\" onclick=\"convertToInteractive('df-8257fa60-73eb-49ce-812b-2e479c3c09e4')\"\n",
              "            title=\"Convert this dataframe to an interactive table.\"\n",
              "            style=\"display:none;\">\n",
              "\n",
              "  <svg xmlns=\"http://www.w3.org/2000/svg\" height=\"24px\" viewBox=\"0 -960 960 960\">\n",
              "    <path d=\"M120-120v-720h720v720H120Zm60-500h600v-160H180v160Zm220 220h160v-160H400v160Zm0 220h160v-160H400v160ZM180-400h160v-160H180v160Zm440 0h160v-160H620v160ZM180-180h160v-160H180v160Zm440 0h160v-160H620v160Z\"/>\n",
              "  </svg>\n",
              "    </button>\n",
              "\n",
              "  <style>\n",
              "    .colab-df-container {\n",
              "      display:flex;\n",
              "      gap: 12px;\n",
              "    }\n",
              "\n",
              "    .colab-df-convert {\n",
              "      background-color: #E8F0FE;\n",
              "      border: none;\n",
              "      border-radius: 50%;\n",
              "      cursor: pointer;\n",
              "      display: none;\n",
              "      fill: #1967D2;\n",
              "      height: 32px;\n",
              "      padding: 0 0 0 0;\n",
              "      width: 32px;\n",
              "    }\n",
              "\n",
              "    .colab-df-convert:hover {\n",
              "      background-color: #E2EBFA;\n",
              "      box-shadow: 0px 1px 2px rgba(60, 64, 67, 0.3), 0px 1px 3px 1px rgba(60, 64, 67, 0.15);\n",
              "      fill: #174EA6;\n",
              "    }\n",
              "\n",
              "    .colab-df-buttons div {\n",
              "      margin-bottom: 4px;\n",
              "    }\n",
              "\n",
              "    [theme=dark] .colab-df-convert {\n",
              "      background-color: #3B4455;\n",
              "      fill: #D2E3FC;\n",
              "    }\n",
              "\n",
              "    [theme=dark] .colab-df-convert:hover {\n",
              "      background-color: #434B5C;\n",
              "      box-shadow: 0px 1px 3px 1px rgba(0, 0, 0, 0.15);\n",
              "      filter: drop-shadow(0px 1px 2px rgba(0, 0, 0, 0.3));\n",
              "      fill: #FFFFFF;\n",
              "    }\n",
              "  </style>\n",
              "\n",
              "    <script>\n",
              "      const buttonEl =\n",
              "        document.querySelector('#df-8257fa60-73eb-49ce-812b-2e479c3c09e4 button.colab-df-convert');\n",
              "      buttonEl.style.display =\n",
              "        google.colab.kernel.accessAllowed ? 'block' : 'none';\n",
              "\n",
              "      async function convertToInteractive(key) {\n",
              "        const element = document.querySelector('#df-8257fa60-73eb-49ce-812b-2e479c3c09e4');\n",
              "        const dataTable =\n",
              "          await google.colab.kernel.invokeFunction('convertToInteractive',\n",
              "                                                    [key], {});\n",
              "        if (!dataTable) return;\n",
              "\n",
              "        const docLinkHtml = 'Like what you see? Visit the ' +\n",
              "          '<a target=\"_blank\" href=https://colab.research.google.com/notebooks/data_table.ipynb>data table notebook</a>'\n",
              "          + ' to learn more about interactive tables.';\n",
              "        element.innerHTML = '';\n",
              "        dataTable['output_type'] = 'display_data';\n",
              "        await google.colab.output.renderOutput(dataTable, element);\n",
              "        const docLink = document.createElement('div');\n",
              "        docLink.innerHTML = docLinkHtml;\n",
              "        element.appendChild(docLink);\n",
              "      }\n",
              "    </script>\n",
              "  </div>\n",
              "\n",
              "\n",
              "<div id=\"df-a06986fa-d8d1-4728-9c5c-ba223d16d5f8\">\n",
              "  <button class=\"colab-df-quickchart\" onclick=\"quickchart('df-a06986fa-d8d1-4728-9c5c-ba223d16d5f8')\"\n",
              "            title=\"Suggest charts\"\n",
              "            style=\"display:none;\">\n",
              "\n",
              "<svg xmlns=\"http://www.w3.org/2000/svg\" height=\"24px\"viewBox=\"0 0 24 24\"\n",
              "     width=\"24px\">\n",
              "    <g>\n",
              "        <path d=\"M19 3H5c-1.1 0-2 .9-2 2v14c0 1.1.9 2 2 2h14c1.1 0 2-.9 2-2V5c0-1.1-.9-2-2-2zM9 17H7v-7h2v7zm4 0h-2V7h2v10zm4 0h-2v-4h2v4z\"/>\n",
              "    </g>\n",
              "</svg>\n",
              "  </button>\n",
              "\n",
              "<style>\n",
              "  .colab-df-quickchart {\n",
              "      --bg-color: #E8F0FE;\n",
              "      --fill-color: #1967D2;\n",
              "      --hover-bg-color: #E2EBFA;\n",
              "      --hover-fill-color: #174EA6;\n",
              "      --disabled-fill-color: #AAA;\n",
              "      --disabled-bg-color: #DDD;\n",
              "  }\n",
              "\n",
              "  [theme=dark] .colab-df-quickchart {\n",
              "      --bg-color: #3B4455;\n",
              "      --fill-color: #D2E3FC;\n",
              "      --hover-bg-color: #434B5C;\n",
              "      --hover-fill-color: #FFFFFF;\n",
              "      --disabled-bg-color: #3B4455;\n",
              "      --disabled-fill-color: #666;\n",
              "  }\n",
              "\n",
              "  .colab-df-quickchart {\n",
              "    background-color: var(--bg-color);\n",
              "    border: none;\n",
              "    border-radius: 50%;\n",
              "    cursor: pointer;\n",
              "    display: none;\n",
              "    fill: var(--fill-color);\n",
              "    height: 32px;\n",
              "    padding: 0;\n",
              "    width: 32px;\n",
              "  }\n",
              "\n",
              "  .colab-df-quickchart:hover {\n",
              "    background-color: var(--hover-bg-color);\n",
              "    box-shadow: 0 1px 2px rgba(60, 64, 67, 0.3), 0 1px 3px 1px rgba(60, 64, 67, 0.15);\n",
              "    fill: var(--button-hover-fill-color);\n",
              "  }\n",
              "\n",
              "  .colab-df-quickchart-complete:disabled,\n",
              "  .colab-df-quickchart-complete:disabled:hover {\n",
              "    background-color: var(--disabled-bg-color);\n",
              "    fill: var(--disabled-fill-color);\n",
              "    box-shadow: none;\n",
              "  }\n",
              "\n",
              "  .colab-df-spinner {\n",
              "    border: 2px solid var(--fill-color);\n",
              "    border-color: transparent;\n",
              "    border-bottom-color: var(--fill-color);\n",
              "    animation:\n",
              "      spin 1s steps(1) infinite;\n",
              "  }\n",
              "\n",
              "  @keyframes spin {\n",
              "    0% {\n",
              "      border-color: transparent;\n",
              "      border-bottom-color: var(--fill-color);\n",
              "      border-left-color: var(--fill-color);\n",
              "    }\n",
              "    20% {\n",
              "      border-color: transparent;\n",
              "      border-left-color: var(--fill-color);\n",
              "      border-top-color: var(--fill-color);\n",
              "    }\n",
              "    30% {\n",
              "      border-color: transparent;\n",
              "      border-left-color: var(--fill-color);\n",
              "      border-top-color: var(--fill-color);\n",
              "      border-right-color: var(--fill-color);\n",
              "    }\n",
              "    40% {\n",
              "      border-color: transparent;\n",
              "      border-right-color: var(--fill-color);\n",
              "      border-top-color: var(--fill-color);\n",
              "    }\n",
              "    60% {\n",
              "      border-color: transparent;\n",
              "      border-right-color: var(--fill-color);\n",
              "    }\n",
              "    80% {\n",
              "      border-color: transparent;\n",
              "      border-right-color: var(--fill-color);\n",
              "      border-bottom-color: var(--fill-color);\n",
              "    }\n",
              "    90% {\n",
              "      border-color: transparent;\n",
              "      border-bottom-color: var(--fill-color);\n",
              "    }\n",
              "  }\n",
              "</style>\n",
              "\n",
              "  <script>\n",
              "    async function quickchart(key) {\n",
              "      const quickchartButtonEl =\n",
              "        document.querySelector('#' + key + ' button');\n",
              "      quickchartButtonEl.disabled = true;  // To prevent multiple clicks.\n",
              "      quickchartButtonEl.classList.add('colab-df-spinner');\n",
              "      try {\n",
              "        const charts = await google.colab.kernel.invokeFunction(\n",
              "            'suggestCharts', [key], {});\n",
              "      } catch (error) {\n",
              "        console.error('Error during call to suggestCharts:', error);\n",
              "      }\n",
              "      quickchartButtonEl.classList.remove('colab-df-spinner');\n",
              "      quickchartButtonEl.classList.add('colab-df-quickchart-complete');\n",
              "    }\n",
              "    (() => {\n",
              "      let quickchartButtonEl =\n",
              "        document.querySelector('#df-a06986fa-d8d1-4728-9c5c-ba223d16d5f8 button');\n",
              "      quickchartButtonEl.style.display =\n",
              "        google.colab.kernel.accessAllowed ? 'block' : 'none';\n",
              "    })();\n",
              "  </script>\n",
              "</div>\n",
              "    </div>\n",
              "  </div>\n"
            ]
          },
          "metadata": {},
          "execution_count": 11
        }
      ]
    },
    {
      "cell_type": "markdown",
      "source": [
        "### Variables Description\n",
        "\n",
        "1. **id**                           - The listing id\n",
        "2. **name**                           - The listing name\n",
        "3. **host_id**                     - The id of the person who hosts out their property\n",
        "4. **host_name**                      - The name of the host who has lists the property          \n",
        "5. **neighbourhood_group**            - The name of the counties in newyork city\n",
        "6. **neighbourhood**                   - Lists of neighbours under the counties of new york city\n",
        "7. **latitude**                        - Numerical format which shows the location of place             \n",
        "8. **longitude**                       - Numerical format which shows the location of place            \n",
        "9. **room_type**                      - Room type shows which type of room that the apartment is rented. i.e:- Private room, entire home etc          \n",
        "10. **price**                          - The price of the property for rent\n",
        "11. **minimum_nights**                 - Show the minimum number of nights that the guest must stay.\n",
        "12. **number_of_reviews**              - Shows the number of review for the property             \n",
        "13. **last_review**                    - Shows the last date of review             \n",
        "14. **reviews_per_month**              - The reviews given by customer per month\n",
        "15. **calculated_host_listings_count** - Shows the count of listing given by the host\n",
        "16. **availability_365**               - Shows how many days the property is available in a year   "
      ],
      "metadata": {
        "id": "Tc7zN5tthTm8"
      }
    },
    {
      "cell_type": "markdown",
      "source": [
        "### Check Unique Values for each variable."
      ],
      "metadata": {
        "id": "v0zt83ZN0cS-"
      }
    },
    {
      "cell_type": "code",
      "source": [
        "airbnb_df.nunique() #shows the number of unique values for all columns"
      ],
      "metadata": {
        "colab": {
          "base_uri": "https://localhost:8080/"
        },
        "id": "qMtqYqUp0dfZ",
        "outputId": "98ce6614-53e9-482b-eaf1-f4c134c95bbb"
      },
      "execution_count": 12,
      "outputs": [
        {
          "output_type": "execute_result",
          "data": {
            "text/plain": [
              "id                                48895\n",
              "name                              47905\n",
              "host_id                           37457\n",
              "host_name                         11452\n",
              "neighbourhood_group                   5\n",
              "neighbourhood                       221\n",
              "latitude                          19048\n",
              "longitude                         14718\n",
              "room_type                             3\n",
              "price                               674\n",
              "minimum_nights                      109\n",
              "number_of_reviews                   394\n",
              "last_review                        1764\n",
              "reviews_per_month                   937\n",
              "calculated_host_listings_count       47\n",
              "availability_365                    366\n",
              "dtype: int64"
            ]
          },
          "metadata": {},
          "execution_count": 12
        }
      ]
    },
    {
      "cell_type": "code",
      "source": [
        "airbnb_df['neighbourhood_group'].unique()"
      ],
      "metadata": {
        "colab": {
          "base_uri": "https://localhost:8080/"
        },
        "id": "R6LzSR_61s06",
        "outputId": "5f85ed5c-9162-44a2-a627-abcef996e676"
      },
      "execution_count": 13,
      "outputs": [
        {
          "output_type": "execute_result",
          "data": {
            "text/plain": [
              "array(['Brooklyn', 'Manhattan', 'Queens', 'Staten Island', 'Bronx'],\n",
              "      dtype=object)"
            ]
          },
          "metadata": {},
          "execution_count": 13
        }
      ]
    },
    {
      "cell_type": "markdown",
      "source": [
        "## 3. ***Data Wrangling***"
      ],
      "metadata": {
        "id": "oFHaCE5j2Llr"
      }
    },
    {
      "cell_type": "markdown",
      "source": [
        "### Data Wrangling Code"
      ],
      "metadata": {
        "id": "oAe3ekUO2MQs"
      }
    },
    {
      "cell_type": "code",
      "source": [
        "#changing data type of price and last_review\n",
        "airbnb_df['price']=airbnb_df['price'].astype(float)\n",
        "airbnb_df['last_review']=pd.to_datetime(airbnb_df['last_review'])"
      ],
      "metadata": {
        "id": "uN5NYF1z10eq"
      },
      "execution_count": 14,
      "outputs": []
    },
    {
      "cell_type": "code",
      "source": [
        "airbnb_df[['name', 'host_name']] = airbnb_df[['name', 'host_name']].fillna('unknown')  #substituting null values with 'unknown'\n",
        "airbnb_df[['last_review','reviews_per_month']] = airbnb_df[['last_review','reviews_per_month']].fillna(0) #substituting null values with 0"
      ],
      "metadata": {
        "id": "_qh-xs8B2cO4"
      },
      "execution_count": 15,
      "outputs": []
    },
    {
      "cell_type": "code",
      "source": [
        "airbnb_df = airbnb_df[(airbnb_df['price'] >= airbnb_df['price'].quantile(0.05)) &\n",
        "        (airbnb_df['price'] <= airbnb_df['price'].quantile(0.95))]"
      ],
      "metadata": {
        "id": "nobiG-ejVgTI"
      },
      "execution_count": 50,
      "outputs": []
    },
    {
      "cell_type": "code",
      "source": [
        "sns.boxplot(airbnb_df['price'])"
      ],
      "metadata": {
        "colab": {
          "base_uri": "https://localhost:8080/",
          "height": 447
        },
        "id": "_KeKymu2X7o4",
        "outputId": "bfe10a21-8441-411a-f3eb-75a9b2919c80"
      },
      "execution_count": 53,
      "outputs": [
        {
          "output_type": "execute_result",
          "data": {
            "text/plain": [
              "<Axes: >"
            ]
          },
          "metadata": {},
          "execution_count": 53
        },
        {
          "output_type": "display_data",
          "data": {
            "text/plain": [
              "<Figure size 640x480 with 1 Axes>"
            ],
            "image/png": "[encoded data removed]"
          },
          "metadata": {}
        }
      ]
    }
  ]
}